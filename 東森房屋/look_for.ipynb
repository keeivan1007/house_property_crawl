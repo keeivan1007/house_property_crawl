{
 "cells": [
  {
   "cell_type": "code",
   "execution_count": null,
   "metadata": {
    "collapsed": false,
    "scrolled": true
   },
   "outputs": [
    {
     "name": "stdout",
     "output_type": "stream",
     "text": [
      "2 page is finish\n",
      "3 page is finish\n",
      "4 page is finish\n",
      "5 page is finish\n",
      "6 page is finish\n",
      "7 page is finish\n",
      "8 page is finish\n",
      "9 page is finish\n",
      "10 page is finish\n",
      "11 page is finish\n",
      "12 page is finish\n",
      "13 page is finish\n"
     ]
    }
   ],
   "source": [
    "\"\"\"\n",
    "使用原則：\n",
    "\n",
    "1.抓東森購物第一頁的url 並在頁碼加入{} ，參考 get_url變數\n",
    "\n",
    "2.crawal_page 後面的數字，是整個要爬取的篇幅，最後一頁沒滿10個不用\n",
    "\n",
    "3.(東森房屋-新竹(240).xlsx) 檔案記得更正為要更新的檔案路徑，記得標題要對到\n",
    "\n",
    "4.如果爬取內容有變，save_excel_Eastern、crawal_soup 也要更跟著修改 ※注意！google drive要載不然會跳error→https://goo.gl/bwJEaI\n",   
    "\n",
    "\"\"\"\n",
    "\n",
    "from hourse_Eastern import *\n",
    "from selenium import webdriver\n",
    "from bs4 import BeautifulSoup\n",
    "import time\n",
    "\n",
    "chrome_path = \"C:\\Program Files (x86)\\Google\\Chrome\\Application\\chromedriver.exe\" #chromedriver.exe執行檔所存在的路徑\n",
    "web = webdriver.Chrome(chrome_path)\n", 
    "\n",
    "#控制板(區)\n",
    "file_xlsx =  '2東森房屋-台北(2470).xlsx' #存取檔案路徑 \n",
    "target_page =242  #目標對象總頁數\n",
    "get_url = \"\"\"http://www.etwarm.com.tw/object_list?area=%E5%8F%B0%E5%8C%97%E5%B8%82&type=&price1=\n",
    "price2=&ping1=&ping2=&old1=&old2=&room=&feature=&pos=&keyword=&sort=&theme=&page={}\"\"\"  #這裡是存取頁，選好地區後記得頁數換成 → {}\n",
    "\n",
    "\n",
    "total_page = 1  #目前在爬的頁數進度\n",
    "crawal_page = target_page - total_page #要爬的多少頁\n",
    "crawal_count = 1 #基底頁數不用動\n",
    "error = 0\n",
    "\n",
    "\n",
    "web.get(get_url.format(total_page)) #把頁數塞進去\n",
    "\n",
    "while 1 <= crawal_page:\n",
    "\n",
    "    try:\n",
    "        soup = BeautifulSoup(web.page_source, 'xml')#這就是我要的\n",
    "        zip_file = crawal_soup(soup)\n",
    "        save_excel_Eastern(zip_file,file_xlsx)\n",
    "        web.find_element_by_link_text('下一頁').click()\n",
    "        crawal_count = crawal_count+1\n",
    "        total_page = total_page + 1\n",
    "        \n",
    "    except Exception as ex:\n",
    "        print(ex)\n",
    "        error = error +1\n",
    "        total_page = total_page + 1 \n",
    "        \n",
    "        web.quit() #跳出去的話就關掉拉回來繼續幹活\n",
    "        web = webdriver.Chrome(chrome_path)\n",
    "\n",
    "        #這裡用動態網址去重新開啟網頁\n",
    "\n",
    "        web.get(get_url.format(total_page)) #把從第幾頁開始塞進去\n",
    "        crawal_page = crawal_page - (crawal_count-1) #我們剩下多少頁要爬，要用爬了多少頁更新\n",
    "        crawal_count = 1 #這裡要重新計算開始爬的頁數\n",
    "        \n",
    "\n",
    "    print('{} page is finish'.format(total_page))\n",
    "    time.sleep(3)\n",
    "\n",
    "print('We have {0} finish,{1} errors'.format(crawal_count-1,error))\n",
    "#web.close()\n",
    "web.quit() #關閉整個瀏覽器"
   ]
  }
 ],
 "metadata": {
  "anaconda-cloud": {},
  "kernelspec": {
   "display_name": "Python [conda root]",
   "language": "python",
   "name": "conda-root-py"
  },
  "language_info": {
   "codemirror_mode": {
    "name": "ipython",
    "version": 3
   },
   "file_extension": ".py",
   "mimetype": "text/x-python",
   "name": "python",
   "nbconvert_exporter": "python",
   "pygments_lexer": "ipython3",
   "version": "3.5.2"
  }
 },
 "nbformat": 4,
 "nbformat_minor": 1
}
